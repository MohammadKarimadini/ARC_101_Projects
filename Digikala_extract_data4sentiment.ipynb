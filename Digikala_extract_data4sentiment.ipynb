{
 "cells": [
  {
   "cell_type": "code",
   "execution_count": 8,
   "id": "84e3ee09-5031-4781-8012-324adefd1f5c",
   "metadata": {},
   "outputs": [],
   "source": [
    "import pandas as pd\n",
    "import numpy as np\n",
    "from gensim import models \n",
    "import gensim\n",
    "from hazm import *"
   ]
  },
  {
   "cell_type": "code",
   "execution_count": 19,
   "id": "794d3657-37a8-4333-a4d5-5577dc1357f0",
   "metadata": {},
   "outputs": [],
   "source": [
    "digi_data = pd.read_excel(\"digi02.xlsx\")"
   ]
  },
  {
   "cell_type": "code",
   "execution_count": 20,
   "id": "1cbe1b02-029b-4b5c-a52c-7bff5431b7da",
   "metadata": {},
   "outputs": [
    {
     "name": "stdout",
     "output_type": "stream",
     "text": [
      "<class 'pandas.core.frame.DataFrame'>\n",
      "RangeIndex: 100000 entries, 0 to 99999\n",
      "Data columns (total 12 columns):\n",
      " #   Column               Non-Null Count   Dtype \n",
      "---  ------               --------------   ----- \n",
      " 0   product_id           100000 non-null  int64 \n",
      " 1   product_title        100000 non-null  object\n",
      " 2   title_en             100000 non-null  object\n",
      " 3   user_id              100000 non-null  int64 \n",
      " 4   likes                100000 non-null  int64 \n",
      " 5   dislikes             100000 non-null  int64 \n",
      " 6   verification_status  100000 non-null  object\n",
      " 7   recommend            100000 non-null  object\n",
      " 8   title                96730 non-null   object\n",
      " 9   comment              99883 non-null   object\n",
      " 10  advantages           42241 non-null   object\n",
      " 11  disadvantages        34121 non-null   object\n",
      "dtypes: int64(4), object(8)\n",
      "memory usage: 9.2+ MB\n"
     ]
    }
   ],
   "source": [
    "digi_data.info()"
   ]
  },
  {
   "cell_type": "code",
   "execution_count": 21,
   "id": "6f934287-8287-416a-bc4f-f22f640d462c",
   "metadata": {},
   "outputs": [
    {
     "data": {
      "text/plain": [
       "Index(['product_id', 'product_title', 'title_en', 'user_id', 'likes',\n",
       "       'dislikes', 'verification_status', 'recommend', 'title', 'comment',\n",
       "       'advantages', 'disadvantages'],\n",
       "      dtype='object')"
      ]
     },
     "execution_count": 21,
     "metadata": {},
     "output_type": "execute_result"
    }
   ],
   "source": [
    "digi_data.columns"
   ]
  },
  {
   "cell_type": "code",
   "execution_count": 22,
   "id": "0a5506f2-00d8-4f12-baf8-bf969281985f",
   "metadata": {},
   "outputs": [],
   "source": [
    "digi_data_filtered = digi_data[[\"product_title\",\"title_en\",\"likes\",\"dislikes\",\n",
    "                                \"verification_status\", \"recommend\",\"title\",\"comment\",\"advantages\",\"disadvantages\"]]"
   ]
  },
  {
   "cell_type": "code",
   "execution_count": 23,
   "id": "f10bc7c3-84a0-4edf-85d3-a72d4391fe81",
   "metadata": {},
   "outputs": [
    {
     "data": {
      "text/html": [
       "<div>\n",
       "<style scoped>\n",
       "    .dataframe tbody tr th:only-of-type {\n",
       "        vertical-align: middle;\n",
       "    }\n",
       "\n",
       "    .dataframe tbody tr th {\n",
       "        vertical-align: top;\n",
       "    }\n",
       "\n",
       "    .dataframe thead th {\n",
       "        text-align: right;\n",
       "    }\n",
       "</style>\n",
       "<table border=\"1\" class=\"dataframe\">\n",
       "  <thead>\n",
       "    <tr style=\"text-align: right;\">\n",
       "      <th></th>\n",
       "      <th>product_title</th>\n",
       "      <th>title_en</th>\n",
       "      <th>likes</th>\n",
       "      <th>dislikes</th>\n",
       "      <th>verification_status</th>\n",
       "      <th>recommend</th>\n",
       "      <th>title</th>\n",
       "      <th>comment</th>\n",
       "      <th>advantages</th>\n",
       "      <th>disadvantages</th>\n",
       "    </tr>\n",
       "  </thead>\n",
       "  <tbody>\n",
       "    <tr>\n",
       "      <th>0</th>\n",
       "      <td>ماوس بی‌سیم لاجیتک مدل M325</td>\n",
       "      <td>IT</td>\n",
       "      <td>0</td>\n",
       "      <td>0</td>\n",
       "      <td>verified</td>\n",
       "      <td>\\N</td>\n",
       "      <td>NaN</td>\n",
       "      <td>واقعا عالیه. من که ازش خیلی راضیم</td>\n",
       "      <td>NaN</td>\n",
       "      <td>NaN</td>\n",
       "    </tr>\n",
       "    <tr>\n",
       "      <th>1</th>\n",
       "      <td>شارژر همراه شیاومی مدل NDY-02-AN با ظرفیت 1000...</td>\n",
       "      <td>AC</td>\n",
       "      <td>4</td>\n",
       "      <td>1</td>\n",
       "      <td>verified</td>\n",
       "      <td>recommended</td>\n",
       "      <td>واقعاً عالیه</td>\n",
       "      <td>سلام، قبل اینکه نظرم رو بگم میخواستم به یک موض...</td>\n",
       "      <td>[\"عمر طولانی\\r\",\"افت بسیار کم میزان شارژ\\r\",\"ا...</td>\n",
       "      <td>[\"ندارد\"]</td>\n",
       "    </tr>\n",
       "    <tr>\n",
       "      <th>2</th>\n",
       "      <td>یدک پولیشر میکروفایبر مهسان مدل 20119</td>\n",
       "      <td>HW</td>\n",
       "      <td>1</td>\n",
       "      <td>0</td>\n",
       "      <td>verified</td>\n",
       "      <td>not_recommended</td>\n",
       "      <td>خیلی سخت حوله اش در میاد</td>\n",
       "      <td>گیره های فلزی خیلی سخت تا میشوند و لذا حوله را...</td>\n",
       "      <td>NaN</td>\n",
       "      <td>NaN</td>\n",
       "    </tr>\n",
       "    <tr>\n",
       "      <th>3</th>\n",
       "      <td>گوشی موبایل هوآوی آنر مدل 5X KIW-L21 دو سیم‌کارت</td>\n",
       "      <td>MO</td>\n",
       "      <td>6</td>\n",
       "      <td>11</td>\n",
       "      <td>verified</td>\n",
       "      <td>no_idea</td>\n",
       "      <td>گوشی مقرون به صرفه</td>\n",
       "      <td>همه چیز در رابطه با ظاهر این گوشی بسیار خوب اس...</td>\n",
       "      <td>[\"صفحه نمایش پرنور و با کیفیت\\r\",\"کیفیت بالای ...</td>\n",
       "      <td>[\"کیفیت پایین اسپیکر\\r\",\"حاشیه خالی زیر صفحه ن...</td>\n",
       "    </tr>\n",
       "    <tr>\n",
       "      <th>4</th>\n",
       "      <td>شارژر همراه شیائومی مدل Mi ظرفیت 5000 میلی آمپ...</td>\n",
       "      <td>AC</td>\n",
       "      <td>19</td>\n",
       "      <td>4</td>\n",
       "      <td>verified</td>\n",
       "      <td>no_idea</td>\n",
       "      <td>ابعاد، استحکام و نگهداری شارژ مناسب</td>\n",
       "      <td>اگر ظرفیتش براتون کافیه حتما بخرید._x000D_\\nیه...</td>\n",
       "      <td>[\"ظریف و زیبا و باریک\\r\",\"بدنه محکم و با دوام\"]</td>\n",
       "      <td>[\"ظرفیت متوسط\"]</td>\n",
       "    </tr>\n",
       "  </tbody>\n",
       "</table>\n",
       "</div>"
      ],
      "text/plain": [
       "                                       product_title title_en  likes  \\\n",
       "0                        ماوس بی‌سیم لاجیتک مدل M325       IT      0   \n",
       "1  شارژر همراه شیاومی مدل NDY-02-AN با ظرفیت 1000...       AC      4   \n",
       "2              یدک پولیشر میکروفایبر مهسان مدل 20119       HW      1   \n",
       "3   گوشی موبایل هوآوی آنر مدل 5X KIW-L21 دو سیم‌کارت       MO      6   \n",
       "4  شارژر همراه شیائومی مدل Mi ظرفیت 5000 میلی آمپ...       AC     19   \n",
       "\n",
       "   dislikes verification_status        recommend  \\\n",
       "0         0            verified               \\N   \n",
       "1         1            verified      recommended   \n",
       "2         0            verified  not_recommended   \n",
       "3        11            verified          no_idea   \n",
       "4         4            verified          no_idea   \n",
       "\n",
       "                                 title  \\\n",
       "0                                  NaN   \n",
       "1                         واقعاً عالیه   \n",
       "2             خیلی سخت حوله اش در میاد   \n",
       "3                   گوشی مقرون به صرفه   \n",
       "4  ابعاد، استحکام و نگهداری شارژ مناسب   \n",
       "\n",
       "                                             comment  \\\n",
       "0                  واقعا عالیه. من که ازش خیلی راضیم   \n",
       "1  سلام، قبل اینکه نظرم رو بگم میخواستم به یک موض...   \n",
       "2  گیره های فلزی خیلی سخت تا میشوند و لذا حوله را...   \n",
       "3  همه چیز در رابطه با ظاهر این گوشی بسیار خوب اس...   \n",
       "4  اگر ظرفیتش براتون کافیه حتما بخرید._x000D_\\nیه...   \n",
       "\n",
       "                                          advantages  \\\n",
       "0                                                NaN   \n",
       "1  [\"عمر طولانی\\r\",\"افت بسیار کم میزان شارژ\\r\",\"ا...   \n",
       "2                                                NaN   \n",
       "3  [\"صفحه نمایش پرنور و با کیفیت\\r\",\"کیفیت بالای ...   \n",
       "4    [\"ظریف و زیبا و باریک\\r\",\"بدنه محکم و با دوام\"]   \n",
       "\n",
       "                                       disadvantages  \n",
       "0                                                NaN  \n",
       "1                                          [\"ندارد\"]  \n",
       "2                                                NaN  \n",
       "3  [\"کیفیت پایین اسپیکر\\r\",\"حاشیه خالی زیر صفحه ن...  \n",
       "4                                    [\"ظرفیت متوسط\"]  "
      ]
     },
     "execution_count": 23,
     "metadata": {},
     "output_type": "execute_result"
    }
   ],
   "source": [
    "digi_data_filtered.head()"
   ]
  },
  {
   "cell_type": "code",
   "execution_count": 25,
   "id": "5274b2cb-208f-4929-b3f7-15eb12b34025",
   "metadata": {},
   "outputs": [
    {
     "data": {
      "text/plain": [
       "title_en\n",
       "AC    16376\n",
       "PC    12443\n",
       "HW    10483\n",
       "FA    10465\n",
       "TC     9846\n",
       "TS     7915\n",
       "IT     6999\n",
       "MA     6395\n",
       "PA     5751\n",
       "HA     4207\n",
       "AV     3865\n",
       "MO     2254\n",
       "DF     1348\n",
       "HC     1063\n",
       "BC      524\n",
       "FF       60\n",
       "GF        4\n",
       "GC        2\n",
       "Name: count, dtype: int64"
      ]
     },
     "execution_count": 25,
     "metadata": {},
     "output_type": "execute_result"
    }
   ],
   "source": [
    "digi_data_filtered[\"title_en\"].value_counts()"
   ]
  },
  {
   "cell_type": "code",
   "execution_count": 26,
   "id": "0c99e513-0422-4d04-8c94-0911d61a9932",
   "metadata": {},
   "outputs": [
    {
     "data": {
      "text/plain": [
       "100000"
      ]
     },
     "execution_count": 26,
     "metadata": {},
     "output_type": "execute_result"
    }
   ],
   "source": [
    "len(digi_data_filtered)"
   ]
  },
  {
   "cell_type": "code",
   "execution_count": 31,
   "id": "0fd88155-50d8-4ca4-981e-87bb8c3fe709",
   "metadata": {},
   "outputs": [],
   "source": [
    "No_dup_df = digi_data_filtered.drop_duplicates()"
   ]
  },
  {
   "cell_type": "code",
   "execution_count": 32,
   "id": "c3f561d4-5204-435b-8d83-c9fbb893c9f0",
   "metadata": {},
   "outputs": [
    {
     "data": {
      "text/plain": [
       "99996"
      ]
     },
     "execution_count": 32,
     "metadata": {},
     "output_type": "execute_result"
    }
   ],
   "source": [
    "len(No_dup_df)"
   ]
  },
  {
   "cell_type": "code",
   "execution_count": 35,
   "id": "d7d364d5-8fab-4323-b029-67f3de055615",
   "metadata": {},
   "outputs": [],
   "source": [
    "No_dup_na = No_dup_df.dropna()"
   ]
  },
  {
   "cell_type": "code",
   "execution_count": 36,
   "id": "5af93b64-c99e-464c-acf9-1e794334f5d9",
   "metadata": {},
   "outputs": [
    {
     "data": {
      "text/plain": [
       "29250"
      ]
     },
     "execution_count": 36,
     "metadata": {},
     "output_type": "execute_result"
    }
   ],
   "source": [
    "len(No_dup_na)"
   ]
  },
  {
   "cell_type": "code",
   "execution_count": 37,
   "id": "e8d69a5c-eb6d-42e0-ba93-72843ed86ee5",
   "metadata": {},
   "outputs": [
    {
     "data": {
      "text/plain": [
       "Index(['product_title', 'title_en', 'likes', 'dislikes', 'verification_status',\n",
       "       'recommend', 'title', 'comment', 'advantages', 'disadvantages'],\n",
       "      dtype='object')"
      ]
     },
     "execution_count": 37,
     "metadata": {},
     "output_type": "execute_result"
    }
   ],
   "source": [
    "No_dup_na.columns"
   ]
  },
  {
   "cell_type": "code",
   "execution_count": 38,
   "id": "407f257d-0ea2-4517-850c-f0f98591bcaf",
   "metadata": {},
   "outputs": [],
   "source": [
    "# def dummies(x,df):\n",
    "#     temp = pd.get_dummies(df[x], drop_first = True)\n",
    "#     df = pd.concat([df, temp], axis = 1)\n",
    "#     df.drop([x], axis = 1, inplace = True)\n",
    "#     return df\n",
    "# df_encoded = dummies('Embarked',No_dup_na)"
   ]
  },
  {
   "cell_type": "code",
   "execution_count": 40,
   "id": "b0ed6831-6f71-4fe8-b9b7-7d7900a8e2a1",
   "metadata": {},
   "outputs": [
    {
     "data": {
      "text/plain": [
       "recommend\n",
       "recommended        11377\n",
       "\\N                 10432\n",
       "not_recommended     4234\n",
       "no_idea             3207\n",
       "Name: count, dtype: int64"
      ]
     },
     "execution_count": 40,
     "metadata": {},
     "output_type": "execute_result"
    }
   ],
   "source": [
    "No_dup_na[\"recommend\"].value_counts()"
   ]
  },
  {
   "cell_type": "code",
   "execution_count": 41,
   "id": "1c945dc8-6fe9-4716-92a3-8f2c30d79479",
   "metadata": {},
   "outputs": [],
   "source": [
    "filtered_No_dup_na = No_dup_na[No_dup_na[\"recommend\"] != r\"\\N\"]"
   ]
  },
  {
   "cell_type": "code",
   "execution_count": 42,
   "id": "a1776970-a08f-4b31-95bd-d53906a61e97",
   "metadata": {},
   "outputs": [
    {
     "data": {
      "text/html": [
       "<div>\n",
       "<style scoped>\n",
       "    .dataframe tbody tr th:only-of-type {\n",
       "        vertical-align: middle;\n",
       "    }\n",
       "\n",
       "    .dataframe tbody tr th {\n",
       "        vertical-align: top;\n",
       "    }\n",
       "\n",
       "    .dataframe thead th {\n",
       "        text-align: right;\n",
       "    }\n",
       "</style>\n",
       "<table border=\"1\" class=\"dataframe\">\n",
       "  <thead>\n",
       "    <tr style=\"text-align: right;\">\n",
       "      <th></th>\n",
       "      <th>product_title</th>\n",
       "      <th>title_en</th>\n",
       "      <th>likes</th>\n",
       "      <th>dislikes</th>\n",
       "      <th>verification_status</th>\n",
       "      <th>recommend</th>\n",
       "      <th>title</th>\n",
       "      <th>comment</th>\n",
       "      <th>advantages</th>\n",
       "      <th>disadvantages</th>\n",
       "    </tr>\n",
       "  </thead>\n",
       "  <tbody>\n",
       "    <tr>\n",
       "      <th>1</th>\n",
       "      <td>شارژر همراه شیاومی مدل NDY-02-AN با ظرفیت 1000...</td>\n",
       "      <td>AC</td>\n",
       "      <td>4</td>\n",
       "      <td>1</td>\n",
       "      <td>verified</td>\n",
       "      <td>recommended</td>\n",
       "      <td>واقعاً عالیه</td>\n",
       "      <td>سلام، قبل اینکه نظرم رو بگم میخواستم به یک موض...</td>\n",
       "      <td>[\"عمر طولانی\\r\",\"افت بسیار کم میزان شارژ\\r\",\"ا...</td>\n",
       "      <td>[\"ندارد\"]</td>\n",
       "    </tr>\n",
       "    <tr>\n",
       "      <th>3</th>\n",
       "      <td>گوشی موبایل هوآوی آنر مدل 5X KIW-L21 دو سیم‌کارت</td>\n",
       "      <td>MO</td>\n",
       "      <td>6</td>\n",
       "      <td>11</td>\n",
       "      <td>verified</td>\n",
       "      <td>no_idea</td>\n",
       "      <td>گوشی مقرون به صرفه</td>\n",
       "      <td>همه چیز در رابطه با ظاهر این گوشی بسیار خوب اس...</td>\n",
       "      <td>[\"صفحه نمایش پرنور و با کیفیت\\r\",\"کیفیت بالای ...</td>\n",
       "      <td>[\"کیفیت پایین اسپیکر\\r\",\"حاشیه خالی زیر صفحه ن...</td>\n",
       "    </tr>\n",
       "    <tr>\n",
       "      <th>4</th>\n",
       "      <td>شارژر همراه شیائومی مدل Mi ظرفیت 5000 میلی آمپ...</td>\n",
       "      <td>AC</td>\n",
       "      <td>19</td>\n",
       "      <td>4</td>\n",
       "      <td>verified</td>\n",
       "      <td>no_idea</td>\n",
       "      <td>ابعاد، استحکام و نگهداری شارژ مناسب</td>\n",
       "      <td>اگر ظرفیتش براتون کافیه حتما بخرید._x000D_\\nیه...</td>\n",
       "      <td>[\"ظریف و زیبا و باریک\\r\",\"بدنه محکم و با دوام\"]</td>\n",
       "      <td>[\"ظرفیت متوسط\"]</td>\n",
       "    </tr>\n",
       "    <tr>\n",
       "      <th>5</th>\n",
       "      <td>لپ تاپ 15 اینچی ایسوس مدل N501VW - A</td>\n",
       "      <td>IT</td>\n",
       "      <td>6</td>\n",
       "      <td>1</td>\n",
       "      <td>verified</td>\n",
       "      <td>recommended</td>\n",
       "      <td>اقرار بیش از حد در ایراد گرفتن</td>\n",
       "      <td>سلام دوستان،،_x000D_\\nمنم مثه بعضی از دوستان ق...</td>\n",
       "      <td>[\"همه چیز که تو مشخصات اومده بجز 3 مورد کوچیک\"]</td>\n",
       "      <td>[\"تاچ پدش میتونست بهتر باشه از نظر سرعت پاسخ گ...</td>\n",
       "    </tr>\n",
       "    <tr>\n",
       "      <th>6</th>\n",
       "      <td>اسپیکر بلوتوثی دیووم مدل Bluetune bean</td>\n",
       "      <td>IT</td>\n",
       "      <td>3</td>\n",
       "      <td>0</td>\n",
       "      <td>verified</td>\n",
       "      <td>recommended</td>\n",
       "      <td>بسیار خوب</td>\n",
       "      <td>من چند سالی هست که این اسپیکرو خریدم و واقعا ح...</td>\n",
       "      <td>[\"کیفیت ساخت بسیار خوب\\r\",\"کیفیت صدا بسیار عال...</td>\n",
       "      <td>[\"ندارد\"]</td>\n",
       "    </tr>\n",
       "  </tbody>\n",
       "</table>\n",
       "</div>"
      ],
      "text/plain": [
       "                                       product_title title_en  likes  \\\n",
       "1  شارژر همراه شیاومی مدل NDY-02-AN با ظرفیت 1000...       AC      4   \n",
       "3   گوشی موبایل هوآوی آنر مدل 5X KIW-L21 دو سیم‌کارت       MO      6   \n",
       "4  شارژر همراه شیائومی مدل Mi ظرفیت 5000 میلی آمپ...       AC     19   \n",
       "5               لپ تاپ 15 اینچی ایسوس مدل N501VW - A       IT      6   \n",
       "6             اسپیکر بلوتوثی دیووم مدل Bluetune bean       IT      3   \n",
       "\n",
       "   dislikes verification_status    recommend  \\\n",
       "1         1            verified  recommended   \n",
       "3        11            verified      no_idea   \n",
       "4         4            verified      no_idea   \n",
       "5         1            verified  recommended   \n",
       "6         0            verified  recommended   \n",
       "\n",
       "                                 title  \\\n",
       "1                         واقعاً عالیه   \n",
       "3                   گوشی مقرون به صرفه   \n",
       "4  ابعاد، استحکام و نگهداری شارژ مناسب   \n",
       "5       اقرار بیش از حد در ایراد گرفتن   \n",
       "6                            بسیار خوب   \n",
       "\n",
       "                                             comment  \\\n",
       "1  سلام، قبل اینکه نظرم رو بگم میخواستم به یک موض...   \n",
       "3  همه چیز در رابطه با ظاهر این گوشی بسیار خوب اس...   \n",
       "4  اگر ظرفیتش براتون کافیه حتما بخرید._x000D_\\nیه...   \n",
       "5  سلام دوستان،،_x000D_\\nمنم مثه بعضی از دوستان ق...   \n",
       "6  من چند سالی هست که این اسپیکرو خریدم و واقعا ح...   \n",
       "\n",
       "                                          advantages  \\\n",
       "1  [\"عمر طولانی\\r\",\"افت بسیار کم میزان شارژ\\r\",\"ا...   \n",
       "3  [\"صفحه نمایش پرنور و با کیفیت\\r\",\"کیفیت بالای ...   \n",
       "4    [\"ظریف و زیبا و باریک\\r\",\"بدنه محکم و با دوام\"]   \n",
       "5    [\"همه چیز که تو مشخصات اومده بجز 3 مورد کوچیک\"]   \n",
       "6  [\"کیفیت ساخت بسیار خوب\\r\",\"کیفیت صدا بسیار عال...   \n",
       "\n",
       "                                       disadvantages  \n",
       "1                                          [\"ندارد\"]  \n",
       "3  [\"کیفیت پایین اسپیکر\\r\",\"حاشیه خالی زیر صفحه ن...  \n",
       "4                                    [\"ظرفیت متوسط\"]  \n",
       "5  [\"تاچ پدش میتونست بهتر باشه از نظر سرعت پاسخ گ...  \n",
       "6                                          [\"ندارد\"]  "
      ]
     },
     "execution_count": 42,
     "metadata": {},
     "output_type": "execute_result"
    }
   ],
   "source": [
    "filtered_No_dup_na.head()"
   ]
  },
  {
   "cell_type": "code",
   "execution_count": 43,
   "id": "a3d9d37b-1c4e-4ca3-8ad2-4eed9ab8fb76",
   "metadata": {},
   "outputs": [
    {
     "data": {
      "text/plain": [
       "recommend\n",
       "recommended        11377\n",
       "not_recommended     4234\n",
       "no_idea             3207\n",
       "Name: count, dtype: int64"
      ]
     },
     "execution_count": 43,
     "metadata": {},
     "output_type": "execute_result"
    }
   ],
   "source": [
    "filtered_No_dup_na[\"recommend\"].value_counts()"
   ]
  },
  {
   "cell_type": "code",
   "execution_count": 45,
   "id": "3a62ef9c-1b27-4edf-b893-26b500280ad9",
   "metadata": {},
   "outputs": [],
   "source": [
    "Final_digi_kala_df_4_sentiment_analysis = filtered_No_dup_na.loc[:,[\"comment\",\"recommend\"]]"
   ]
  },
  {
   "cell_type": "code",
   "execution_count": 46,
   "id": "e788e10b-f55e-4649-a8ae-0871f7201c15",
   "metadata": {},
   "outputs": [
    {
     "data": {
      "text/html": [
       "<div>\n",
       "<style scoped>\n",
       "    .dataframe tbody tr th:only-of-type {\n",
       "        vertical-align: middle;\n",
       "    }\n",
       "\n",
       "    .dataframe tbody tr th {\n",
       "        vertical-align: top;\n",
       "    }\n",
       "\n",
       "    .dataframe thead th {\n",
       "        text-align: right;\n",
       "    }\n",
       "</style>\n",
       "<table border=\"1\" class=\"dataframe\">\n",
       "  <thead>\n",
       "    <tr style=\"text-align: right;\">\n",
       "      <th></th>\n",
       "      <th>comment</th>\n",
       "      <th>recommend</th>\n",
       "    </tr>\n",
       "  </thead>\n",
       "  <tbody>\n",
       "    <tr>\n",
       "      <th>1</th>\n",
       "      <td>سلام، قبل اینکه نظرم رو بگم میخواستم به یک موض...</td>\n",
       "      <td>recommended</td>\n",
       "    </tr>\n",
       "    <tr>\n",
       "      <th>3</th>\n",
       "      <td>همه چیز در رابطه با ظاهر این گوشی بسیار خوب اس...</td>\n",
       "      <td>no_idea</td>\n",
       "    </tr>\n",
       "    <tr>\n",
       "      <th>4</th>\n",
       "      <td>اگر ظرفیتش براتون کافیه حتما بخرید._x000D_\\nیه...</td>\n",
       "      <td>no_idea</td>\n",
       "    </tr>\n",
       "    <tr>\n",
       "      <th>5</th>\n",
       "      <td>سلام دوستان،،_x000D_\\nمنم مثه بعضی از دوستان ق...</td>\n",
       "      <td>recommended</td>\n",
       "    </tr>\n",
       "    <tr>\n",
       "      <th>6</th>\n",
       "      <td>من چند سالی هست که این اسپیکرو خریدم و واقعا ح...</td>\n",
       "      <td>recommended</td>\n",
       "    </tr>\n",
       "    <tr>\n",
       "      <th>...</th>\n",
       "      <td>...</td>\n",
       "      <td>...</td>\n",
       "    </tr>\n",
       "    <tr>\n",
       "      <th>99968</th>\n",
       "      <td>بعداز  یک ماه زرد میشه از هم در میره</td>\n",
       "      <td>not_recommended</td>\n",
       "    </tr>\n",
       "    <tr>\n",
       "      <th>99970</th>\n",
       "      <td>خیلی بوی بدی نمیده که بقیه میگن فقط تنها ایراد...</td>\n",
       "      <td>recommended</td>\n",
       "    </tr>\n",
       "    <tr>\n",
       "      <th>99983</th>\n",
       "      <td>گول ۱۰۰۰۰میلی آمپر رو نخورید خیلی پایین هست ظر...</td>\n",
       "      <td>not_recommended</td>\n",
       "    </tr>\n",
       "    <tr>\n",
       "      <th>99995</th>\n",
       "      <td>بسیار تمیز و زیبا...من که خیلی راضیم</td>\n",
       "      <td>recommended</td>\n",
       "    </tr>\n",
       "    <tr>\n",
       "      <th>99997</th>\n",
       "      <td>واکس خوبیه..</td>\n",
       "      <td>recommended</td>\n",
       "    </tr>\n",
       "  </tbody>\n",
       "</table>\n",
       "<p>18818 rows × 2 columns</p>\n",
       "</div>"
      ],
      "text/plain": [
       "                                                 comment        recommend\n",
       "1      سلام، قبل اینکه نظرم رو بگم میخواستم به یک موض...      recommended\n",
       "3      همه چیز در رابطه با ظاهر این گوشی بسیار خوب اس...          no_idea\n",
       "4      اگر ظرفیتش براتون کافیه حتما بخرید._x000D_\\nیه...          no_idea\n",
       "5      سلام دوستان،،_x000D_\\nمنم مثه بعضی از دوستان ق...      recommended\n",
       "6      من چند سالی هست که این اسپیکرو خریدم و واقعا ح...      recommended\n",
       "...                                                  ...              ...\n",
       "99968               بعداز  یک ماه زرد میشه از هم در میره  not_recommended\n",
       "99970  خیلی بوی بدی نمیده که بقیه میگن فقط تنها ایراد...      recommended\n",
       "99983  گول ۱۰۰۰۰میلی آمپر رو نخورید خیلی پایین هست ظر...  not_recommended\n",
       "99995               بسیار تمیز و زیبا...من که خیلی راضیم      recommended\n",
       "99997                                       واکس خوبیه..      recommended\n",
       "\n",
       "[18818 rows x 2 columns]"
      ]
     },
     "execution_count": 46,
     "metadata": {},
     "output_type": "execute_result"
    }
   ],
   "source": [
    "Final_digi_kala_df_4_sentiment_analysis"
   ]
  },
  {
   "cell_type": "code",
   "execution_count": 47,
   "id": "ebcace5c-4b5b-48d7-99b9-f06f75e0d5ee",
   "metadata": {},
   "outputs": [],
   "source": [
    "Final_digi_kala_df_4_sentiment_analysis.to_csv(\"sentiment_digikala_data.csv\",index=False, encoding=\"utf-8\")"
   ]
  },
  {
   "cell_type": "markdown",
   "id": "ba5af4d5-60fb-4d6b-9710-11af7451def1",
   "metadata": {},
   "source": [
    "# End of extract data needed"
   ]
  }
 ],
 "metadata": {
  "kernelspec": {
   "display_name": "Python 3 (ipykernel)",
   "language": "python",
   "name": "python3"
  },
  "language_info": {
   "codemirror_mode": {
    "name": "ipython",
    "version": 3
   },
   "file_extension": ".py",
   "mimetype": "text/x-python",
   "name": "python",
   "nbconvert_exporter": "python",
   "pygments_lexer": "ipython3",
   "version": "3.11.5"
  }
 },
 "nbformat": 4,
 "nbformat_minor": 5
}
